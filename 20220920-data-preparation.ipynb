{
 "cells": [
  {
   "cell_type": "markdown",
   "id": "9b015a3b",
   "metadata": {},
   "source": [
    "# Data quality with great expectations\n",
    "Some simple experiments"
   ]
  },
  {
   "cell_type": "markdown",
   "id": "5d381d0f",
   "metadata": {},
   "source": [
    "## Get a simple dataset"
   ]
  },
  {
   "cell_type": "code",
   "execution_count": 3,
   "id": "e28aea7e",
   "metadata": {},
   "outputs": [],
   "source": [
    "import pandas as pd\n",
    "from sklearn.datasets import load_iris\n",
    "\n",
    "data = load_iris()\n",
    "\n",
    "df = pd.DataFrame(data=data.data, columns=data.feature_names)\n",
    "df['target'] = data.target_names[data.target]\n",
    "\n",
    "df = df.sample(frac=1)\n",
    "\n",
    "df_reference = df[0:100].copy()\n",
    "df_reference.to_csv(\"data/reference.csv\")\n",
    "\n",
    "df_test = df[100:].copy()"
   ]
  },
  {
   "cell_type": "markdown",
   "id": "1a810d4c",
   "metadata": {},
   "source": [
    "## Degrade the test set and see if the DQ measures detect it"
   ]
  },
  {
   "cell_type": "code",
   "execution_count": null,
   "id": "9726d611",
   "metadata": {},
   "outputs": [],
   "source": [
    "df_test.tail()"
   ]
  },
  {
   "cell_type": "code",
   "execution_count": null,
   "id": "fce48b57",
   "metadata": {},
   "outputs": [],
   "source": [
    "# Put a new value in target\n",
    "\n",
    "#df_test.at[df_test.head(1).index, 'target'] ='bob'\n",
    "df_test.iloc[-1, len(df_test.columns)-1]='bob'             # target value outside expected set\n",
    "df_test.iloc[-1, len(df_test.columns)-2]=123.456           # rogue big value\n",
    "df_test.to_csv(\"data/test.csv\")\n",
    "df_test.tail()"
   ]
  },
  {
   "cell_type": "markdown",
   "id": "1da4e69f",
   "metadata": {},
   "source": [
    "# Using GE in your programs (work in progress)"
   ]
  },
  {
   "cell_type": "code",
   "execution_count": 1,
   "id": "cf3856a0",
   "metadata": {},
   "outputs": [
    {
     "ename": "DatasourceError",
     "evalue": "Cannot initialize datasource iris, error: The given datasource could not be retrieved from the DataContext; please confirm that your configuration is accurate.",
     "output_type": "error",
     "traceback": [
      "\u001b[1;31m---------------------------------------------------------------------------\u001b[0m",
      "\u001b[1;31mDatasourceError\u001b[0m                           Traceback (most recent call last)",
      "Cell \u001b[1;32mIn [1], line 43\u001b[0m\n\u001b[0;32m     12\u001b[0m python_config \u001b[38;5;241m=\u001b[39m {\n\u001b[0;32m     13\u001b[0m     \u001b[38;5;124m\"\u001b[39m\u001b[38;5;124mname\u001b[39m\u001b[38;5;124m\"\u001b[39m: my_checkpoint_name,\n\u001b[0;32m     14\u001b[0m     \u001b[38;5;124m\"\u001b[39m\u001b[38;5;124mconfig_version\u001b[39m\u001b[38;5;124m\"\u001b[39m: \u001b[38;5;241m1\u001b[39m,\n\u001b[1;32m   (...)\u001b[0m\n\u001b[0;32m     40\u001b[0m     ],\n\u001b[0;32m     41\u001b[0m }\n\u001b[0;32m     42\u001b[0m my_checkpoint \u001b[38;5;241m=\u001b[39m Checkpoint(data_context\u001b[38;5;241m=\u001b[39mcontext, \u001b[38;5;241m*\u001b[39m\u001b[38;5;241m*\u001b[39mpython_config)\n\u001b[1;32m---> 43\u001b[0m results \u001b[38;5;241m=\u001b[39m \u001b[43mmy_checkpoint\u001b[49m\u001b[38;5;241;43m.\u001b[39;49m\u001b[43mrun\u001b[49m\u001b[43m(\u001b[49m\u001b[43m)\u001b[49m\n",
      "File \u001b[1;32mc:\\appl\\projects\\equinor\\data-quality-playground\\.venv\\lib\\site-packages\\great_expectations\\core\\usage_statistics\\usage_statistics.py:294\u001b[0m, in \u001b[0;36musage_statistics_enabled_method.<locals>.usage_statistics_wrapped_method\u001b[1;34m(*args, **kwargs)\u001b[0m\n\u001b[0;32m    291\u001b[0m     \u001b[38;5;28;01mif\u001b[39;00m args_payload_fn \u001b[38;5;129;01mis\u001b[39;00m \u001b[38;5;129;01mnot\u001b[39;00m \u001b[38;5;28;01mNone\u001b[39;00m:\n\u001b[0;32m    292\u001b[0m         nested_update(event_payload, args_payload_fn(\u001b[38;5;241m*\u001b[39margs, \u001b[38;5;241m*\u001b[39m\u001b[38;5;241m*\u001b[39mkwargs))\n\u001b[1;32m--> 294\u001b[0m     result \u001b[38;5;241m=\u001b[39m \u001b[43mfunc\u001b[49m\u001b[43m(\u001b[49m\u001b[38;5;241;43m*\u001b[39;49m\u001b[43margs\u001b[49m\u001b[43m,\u001b[49m\u001b[43m \u001b[49m\u001b[38;5;241;43m*\u001b[39;49m\u001b[38;5;241;43m*\u001b[39;49m\u001b[43mkwargs\u001b[49m\u001b[43m)\u001b[49m\n\u001b[0;32m    295\u001b[0m     message[\u001b[38;5;124m\"\u001b[39m\u001b[38;5;124msuccess\u001b[39m\u001b[38;5;124m\"\u001b[39m] \u001b[38;5;241m=\u001b[39m \u001b[38;5;28;01mTrue\u001b[39;00m\n\u001b[0;32m    296\u001b[0m \u001b[38;5;28;01mexcept\u001b[39;00m \u001b[38;5;167;01mException\u001b[39;00m:\n",
      "File \u001b[1;32mc:\\appl\\projects\\equinor\\data-quality-playground\\.venv\\lib\\site-packages\\great_expectations\\checkpoint\\checkpoint.py:184\u001b[0m, in \u001b[0;36mBaseCheckpoint.run\u001b[1;34m(self, template_name, run_name_template, expectation_suite_name, batch_request, action_list, evaluation_parameters, runtime_configuration, validations, profilers, run_id, run_name, run_time, result_format, expectation_suite_ge_cloud_id)\u001b[0m\n\u001b[0;32m    182\u001b[0m \u001b[38;5;28;01mif\u001b[39;00m \u001b[38;5;28mlen\u001b[39m(validations) \u001b[38;5;241m>\u001b[39m \u001b[38;5;241m0\u001b[39m:\n\u001b[0;32m    183\u001b[0m     \u001b[38;5;28;01mfor\u001b[39;00m idx, validation_dict \u001b[38;5;129;01min\u001b[39;00m \u001b[38;5;28menumerate\u001b[39m(validations):\n\u001b[1;32m--> 184\u001b[0m         \u001b[38;5;28;43mself\u001b[39;49m\u001b[38;5;241;43m.\u001b[39;49m\u001b[43m_run_validation\u001b[49m\u001b[43m(\u001b[49m\n\u001b[0;32m    185\u001b[0m \u001b[43m            \u001b[49m\u001b[43msubstituted_runtime_config\u001b[49m\u001b[38;5;241;43m=\u001b[39;49m\u001b[43msubstituted_runtime_config\u001b[49m\u001b[43m,\u001b[49m\n\u001b[0;32m    186\u001b[0m \u001b[43m            \u001b[49m\u001b[43masync_validation_operator_results\u001b[49m\u001b[38;5;241;43m=\u001b[39;49m\u001b[43masync_validation_operator_results\u001b[49m\u001b[43m,\u001b[49m\n\u001b[0;32m    187\u001b[0m \u001b[43m            \u001b[49m\u001b[43masync_executor\u001b[49m\u001b[38;5;241;43m=\u001b[39;49m\u001b[43masync_executor\u001b[49m\u001b[43m,\u001b[49m\n\u001b[0;32m    188\u001b[0m \u001b[43m            \u001b[49m\u001b[43mresult_format\u001b[49m\u001b[38;5;241;43m=\u001b[39;49m\u001b[43mresult_format\u001b[49m\u001b[43m,\u001b[49m\n\u001b[0;32m    189\u001b[0m \u001b[43m            \u001b[49m\u001b[43mrun_id\u001b[49m\u001b[38;5;241;43m=\u001b[39;49m\u001b[43mrun_id\u001b[49m\u001b[43m,\u001b[49m\n\u001b[0;32m    190\u001b[0m \u001b[43m            \u001b[49m\u001b[43midx\u001b[49m\u001b[38;5;241;43m=\u001b[39;49m\u001b[43midx\u001b[49m\u001b[43m,\u001b[49m\n\u001b[0;32m    191\u001b[0m \u001b[43m            \u001b[49m\u001b[43mvalidation_dict\u001b[49m\u001b[38;5;241;43m=\u001b[39;49m\u001b[43mvalidation_dict\u001b[49m\u001b[43m,\u001b[49m\n\u001b[0;32m    192\u001b[0m \u001b[43m        \u001b[49m\u001b[43m)\u001b[49m\n\u001b[0;32m    193\u001b[0m \u001b[38;5;28;01melse\u001b[39;00m:\n\u001b[0;32m    194\u001b[0m     \u001b[38;5;28mself\u001b[39m\u001b[38;5;241m.\u001b[39m_run_validation(\n\u001b[0;32m    195\u001b[0m         substituted_runtime_config\u001b[38;5;241m=\u001b[39msubstituted_runtime_config,\n\u001b[0;32m    196\u001b[0m         async_validation_operator_results\u001b[38;5;241m=\u001b[39masync_validation_operator_results,\n\u001b[1;32m   (...)\u001b[0m\n\u001b[0;32m    199\u001b[0m         run_id\u001b[38;5;241m=\u001b[39mrun_id,\n\u001b[0;32m    200\u001b[0m     )\n",
      "File \u001b[1;32mc:\\appl\\projects\\equinor\\data-quality-playground\\.venv\\lib\\site-packages\\great_expectations\\checkpoint\\checkpoint.py:355\u001b[0m, in \u001b[0;36mBaseCheckpoint._run_validation\u001b[1;34m(self, substituted_runtime_config, async_validation_operator_results, async_executor, result_format, run_id, idx, validation_dict)\u001b[0m\n\u001b[0;32m    350\u001b[0m \u001b[38;5;28;01mif\u001b[39;00m include_rendered_content \u001b[38;5;129;01mis\u001b[39;00m \u001b[38;5;28;01mNone\u001b[39;00m:\n\u001b[0;32m    351\u001b[0m     include_rendered_content \u001b[38;5;241m=\u001b[39m (\n\u001b[0;32m    352\u001b[0m         \u001b[38;5;28mself\u001b[39m\u001b[38;5;241m.\u001b[39m_data_context\u001b[38;5;241m.\u001b[39m_determine_if_expectation_validation_result_include_rendered_content()\n\u001b[0;32m    353\u001b[0m     )\n\u001b[1;32m--> 355\u001b[0m validator: Validator \u001b[38;5;241m=\u001b[39m \u001b[38;5;28;43mself\u001b[39;49m\u001b[38;5;241;43m.\u001b[39;49m\u001b[43mdata_context\u001b[49m\u001b[38;5;241;43m.\u001b[39;49m\u001b[43mget_validator\u001b[49m\u001b[43m(\u001b[49m\n\u001b[0;32m    356\u001b[0m \u001b[43m    \u001b[49m\u001b[43mbatch_request\u001b[49m\u001b[38;5;241;43m=\u001b[39;49m\u001b[43mbatch_request\u001b[49m\u001b[43m,\u001b[49m\n\u001b[0;32m    357\u001b[0m \u001b[43m    \u001b[49m\u001b[43mexpectation_suite_name\u001b[49m\u001b[38;5;241;43m=\u001b[39;49m\u001b[43m(\u001b[49m\n\u001b[0;32m    358\u001b[0m \u001b[43m        \u001b[49m\u001b[43mexpectation_suite_name\u001b[49m\n\u001b[0;32m    359\u001b[0m \u001b[43m        \u001b[49m\u001b[38;5;28;43;01mif\u001b[39;49;00m\u001b[43m \u001b[49m\u001b[38;5;129;43;01mnot\u001b[39;49;00m\u001b[43m \u001b[49m\u001b[38;5;28;43mself\u001b[39;49m\u001b[38;5;241;43m.\u001b[39;49m\u001b[43mdata_context\u001b[49m\u001b[38;5;241;43m.\u001b[39;49m\u001b[43mge_cloud_mode\u001b[49m\n\u001b[0;32m    360\u001b[0m \u001b[43m        \u001b[49m\u001b[38;5;28;43;01melse\u001b[39;49;00m\u001b[43m \u001b[49m\u001b[38;5;28;43;01mNone\u001b[39;49;00m\n\u001b[0;32m    361\u001b[0m \u001b[43m    \u001b[49m\u001b[43m)\u001b[49m\u001b[43m,\u001b[49m\n\u001b[0;32m    362\u001b[0m \u001b[43m    \u001b[49m\u001b[43mexpectation_suite_ge_cloud_id\u001b[49m\u001b[38;5;241;43m=\u001b[39;49m\u001b[43m(\u001b[49m\n\u001b[0;32m    363\u001b[0m \u001b[43m        \u001b[49m\u001b[43mexpectation_suite_ge_cloud_id\u001b[49m\n\u001b[0;32m    364\u001b[0m \u001b[43m        \u001b[49m\u001b[38;5;28;43;01mif\u001b[39;49;00m\u001b[43m \u001b[49m\u001b[38;5;28;43mself\u001b[39;49m\u001b[38;5;241;43m.\u001b[39;49m\u001b[43mdata_context\u001b[49m\u001b[38;5;241;43m.\u001b[39;49m\u001b[43mge_cloud_mode\u001b[49m\n\u001b[0;32m    365\u001b[0m \u001b[43m        \u001b[49m\u001b[38;5;28;43;01melse\u001b[39;49;00m\u001b[43m \u001b[49m\u001b[38;5;28;43;01mNone\u001b[39;49;00m\n\u001b[0;32m    366\u001b[0m \u001b[43m    \u001b[49m\u001b[43m)\u001b[49m\u001b[43m,\u001b[49m\n\u001b[0;32m    367\u001b[0m \u001b[43m    \u001b[49m\u001b[43minclude_rendered_content\u001b[49m\u001b[38;5;241;43m=\u001b[39;49m\u001b[43minclude_rendered_content\u001b[49m\u001b[43m,\u001b[49m\n\u001b[0;32m    368\u001b[0m \u001b[43m\u001b[49m\u001b[43m)\u001b[49m\n\u001b[0;32m    370\u001b[0m action_list: \u001b[38;5;28mlist\u001b[39m \u001b[38;5;241m=\u001b[39m substituted_validation_dict\u001b[38;5;241m.\u001b[39mget(\u001b[38;5;124m\"\u001b[39m\u001b[38;5;124maction_list\u001b[39m\u001b[38;5;124m\"\u001b[39m)\n\u001b[0;32m    371\u001b[0m runtime_configuration_validation \u001b[38;5;241m=\u001b[39m substituted_validation_dict\u001b[38;5;241m.\u001b[39mget(\n\u001b[0;32m    372\u001b[0m     \u001b[38;5;124m\"\u001b[39m\u001b[38;5;124mruntime_configuration\u001b[39m\u001b[38;5;124m\"\u001b[39m, {}\n\u001b[0;32m    373\u001b[0m )\n",
      "File \u001b[1;32mc:\\appl\\projects\\equinor\\data-quality-playground\\.venv\\lib\\site-packages\\great_expectations\\data_context\\data_context\\abstract_data_context.py:891\u001b[0m, in \u001b[0;36mAbstractDataContext.get_validator\u001b[1;34m(self, datasource_name, data_connector_name, data_asset_name, batch, batch_list, batch_request, batch_request_list, batch_data, data_connector_query, batch_identifiers, limit, index, custom_filter_function, sampling_method, sampling_kwargs, splitter_method, splitter_kwargs, runtime_parameters, query, path, batch_filter_parameters, expectation_suite_ge_cloud_id, batch_spec_passthrough, expectation_suite_name, expectation_suite, create_expectation_suite_with_name, include_rendered_content, **kwargs)\u001b[0m\n\u001b[0;32m    887\u001b[0m         batch_request_list \u001b[38;5;241m=\u001b[39m [batch_request]  \u001b[38;5;66;03m# type: ignore[list-item]\u001b[39;00m\n\u001b[0;32m    889\u001b[0m     \u001b[38;5;28;01mfor\u001b[39;00m batch_request \u001b[38;5;129;01min\u001b[39;00m batch_request_list:\n\u001b[0;32m    890\u001b[0m         batch_list\u001b[38;5;241m.\u001b[39mextend(  \u001b[38;5;66;03m# type: ignore[union-attr]\u001b[39;00m\n\u001b[1;32m--> 891\u001b[0m             \u001b[38;5;28;43mself\u001b[39;49m\u001b[38;5;241;43m.\u001b[39;49m\u001b[43mget_batch_list\u001b[49m\u001b[43m(\u001b[49m\n\u001b[0;32m    892\u001b[0m \u001b[43m                \u001b[49m\u001b[43mdatasource_name\u001b[49m\u001b[38;5;241;43m=\u001b[39;49m\u001b[43mdatasource_name\u001b[49m\u001b[43m,\u001b[49m\n\u001b[0;32m    893\u001b[0m \u001b[43m                \u001b[49m\u001b[43mdata_connector_name\u001b[49m\u001b[38;5;241;43m=\u001b[39;49m\u001b[43mdata_connector_name\u001b[49m\u001b[43m,\u001b[49m\n\u001b[0;32m    894\u001b[0m \u001b[43m                \u001b[49m\u001b[43mdata_asset_name\u001b[49m\u001b[38;5;241;43m=\u001b[39;49m\u001b[43mdata_asset_name\u001b[49m\u001b[43m,\u001b[49m\n\u001b[0;32m    895\u001b[0m \u001b[43m                \u001b[49m\u001b[43mbatch_request\u001b[49m\u001b[38;5;241;43m=\u001b[39;49m\u001b[43mbatch_request\u001b[49m\u001b[43m,\u001b[49m\n\u001b[0;32m    896\u001b[0m \u001b[43m                \u001b[49m\u001b[43mbatch_data\u001b[49m\u001b[38;5;241;43m=\u001b[39;49m\u001b[43mbatch_data\u001b[49m\u001b[43m,\u001b[49m\n\u001b[0;32m    897\u001b[0m \u001b[43m                \u001b[49m\u001b[43mdata_connector_query\u001b[49m\u001b[38;5;241;43m=\u001b[39;49m\u001b[43mdata_connector_query\u001b[49m\u001b[43m,\u001b[49m\n\u001b[0;32m    898\u001b[0m \u001b[43m                \u001b[49m\u001b[43mbatch_identifiers\u001b[49m\u001b[38;5;241;43m=\u001b[39;49m\u001b[43mbatch_identifiers\u001b[49m\u001b[43m,\u001b[49m\n\u001b[0;32m    899\u001b[0m \u001b[43m                \u001b[49m\u001b[43mlimit\u001b[49m\u001b[38;5;241;43m=\u001b[39;49m\u001b[43mlimit\u001b[49m\u001b[43m,\u001b[49m\n\u001b[0;32m    900\u001b[0m \u001b[43m                \u001b[49m\u001b[43mindex\u001b[49m\u001b[38;5;241;43m=\u001b[39;49m\u001b[43mindex\u001b[49m\u001b[43m,\u001b[49m\n\u001b[0;32m    901\u001b[0m \u001b[43m                \u001b[49m\u001b[43mcustom_filter_function\u001b[49m\u001b[38;5;241;43m=\u001b[39;49m\u001b[43mcustom_filter_function\u001b[49m\u001b[43m,\u001b[49m\n\u001b[0;32m    902\u001b[0m \u001b[43m                \u001b[49m\u001b[43msampling_method\u001b[49m\u001b[38;5;241;43m=\u001b[39;49m\u001b[43msampling_method\u001b[49m\u001b[43m,\u001b[49m\n\u001b[0;32m    903\u001b[0m \u001b[43m                \u001b[49m\u001b[43msampling_kwargs\u001b[49m\u001b[38;5;241;43m=\u001b[39;49m\u001b[43msampling_kwargs\u001b[49m\u001b[43m,\u001b[49m\n\u001b[0;32m    904\u001b[0m \u001b[43m                \u001b[49m\u001b[43msplitter_method\u001b[49m\u001b[38;5;241;43m=\u001b[39;49m\u001b[43msplitter_method\u001b[49m\u001b[43m,\u001b[49m\n\u001b[0;32m    905\u001b[0m \u001b[43m                \u001b[49m\u001b[43msplitter_kwargs\u001b[49m\u001b[38;5;241;43m=\u001b[39;49m\u001b[43msplitter_kwargs\u001b[49m\u001b[43m,\u001b[49m\n\u001b[0;32m    906\u001b[0m \u001b[43m                \u001b[49m\u001b[43mruntime_parameters\u001b[49m\u001b[38;5;241;43m=\u001b[39;49m\u001b[43mruntime_parameters\u001b[49m\u001b[43m,\u001b[49m\n\u001b[0;32m    907\u001b[0m \u001b[43m                \u001b[49m\u001b[43mquery\u001b[49m\u001b[38;5;241;43m=\u001b[39;49m\u001b[43mquery\u001b[49m\u001b[43m,\u001b[49m\n\u001b[0;32m    908\u001b[0m \u001b[43m                \u001b[49m\u001b[43mpath\u001b[49m\u001b[38;5;241;43m=\u001b[39;49m\u001b[43mpath\u001b[49m\u001b[43m,\u001b[49m\n\u001b[0;32m    909\u001b[0m \u001b[43m                \u001b[49m\u001b[43mbatch_filter_parameters\u001b[49m\u001b[38;5;241;43m=\u001b[39;49m\u001b[43mbatch_filter_parameters\u001b[49m\u001b[43m,\u001b[49m\n\u001b[0;32m    910\u001b[0m \u001b[43m                \u001b[49m\u001b[43mbatch_spec_passthrough\u001b[49m\u001b[38;5;241;43m=\u001b[39;49m\u001b[43mbatch_spec_passthrough\u001b[49m\u001b[43m,\u001b[49m\n\u001b[0;32m    911\u001b[0m \u001b[43m                \u001b[49m\u001b[38;5;241;43m*\u001b[39;49m\u001b[38;5;241;43m*\u001b[39;49m\u001b[43mkwargs\u001b[49m\u001b[43m,\u001b[49m\n\u001b[0;32m    912\u001b[0m \u001b[43m            \u001b[49m\u001b[43m)\u001b[49m\n\u001b[0;32m    913\u001b[0m         )\n\u001b[0;32m    915\u001b[0m \u001b[38;5;28;01mreturn\u001b[39;00m \u001b[38;5;28mself\u001b[39m\u001b[38;5;241m.\u001b[39mget_validator_using_batch_list(\n\u001b[0;32m    916\u001b[0m     expectation_suite\u001b[38;5;241m=\u001b[39mexpectation_suite,  \u001b[38;5;66;03m# type: ignore[arg-type]\u001b[39;00m\n\u001b[0;32m    917\u001b[0m     batch_list\u001b[38;5;241m=\u001b[39mbatch_list,  \u001b[38;5;66;03m# type: ignore[arg-type]\u001b[39;00m\n\u001b[0;32m    918\u001b[0m     include_rendered_content\u001b[38;5;241m=\u001b[39minclude_rendered_content,\n\u001b[0;32m    919\u001b[0m )\n",
      "File \u001b[1;32mc:\\appl\\projects\\equinor\\data-quality-playground\\.venv\\lib\\site-packages\\great_expectations\\core\\usage_statistics\\usage_statistics.py:294\u001b[0m, in \u001b[0;36musage_statistics_enabled_method.<locals>.usage_statistics_wrapped_method\u001b[1;34m(*args, **kwargs)\u001b[0m\n\u001b[0;32m    291\u001b[0m     \u001b[38;5;28;01mif\u001b[39;00m args_payload_fn \u001b[38;5;129;01mis\u001b[39;00m \u001b[38;5;129;01mnot\u001b[39;00m \u001b[38;5;28;01mNone\u001b[39;00m:\n\u001b[0;32m    292\u001b[0m         nested_update(event_payload, args_payload_fn(\u001b[38;5;241m*\u001b[39margs, \u001b[38;5;241m*\u001b[39m\u001b[38;5;241m*\u001b[39mkwargs))\n\u001b[1;32m--> 294\u001b[0m     result \u001b[38;5;241m=\u001b[39m \u001b[43mfunc\u001b[49m\u001b[43m(\u001b[49m\u001b[38;5;241;43m*\u001b[39;49m\u001b[43margs\u001b[49m\u001b[43m,\u001b[49m\u001b[43m \u001b[49m\u001b[38;5;241;43m*\u001b[39;49m\u001b[38;5;241;43m*\u001b[39;49m\u001b[43mkwargs\u001b[49m\u001b[43m)\u001b[49m\n\u001b[0;32m    295\u001b[0m     message[\u001b[38;5;124m\"\u001b[39m\u001b[38;5;124msuccess\u001b[39m\u001b[38;5;124m\"\u001b[39m] \u001b[38;5;241m=\u001b[39m \u001b[38;5;28;01mTrue\u001b[39;00m\n\u001b[0;32m    296\u001b[0m \u001b[38;5;28;01mexcept\u001b[39;00m \u001b[38;5;167;01mException\u001b[39;00m:\n",
      "File \u001b[1;32mc:\\appl\\projects\\equinor\\data-quality-playground\\.venv\\lib\\site-packages\\great_expectations\\data_context\\data_context\\base_data_context.py:1220\u001b[0m, in \u001b[0;36mBaseDataContext.get_batch_list\u001b[1;34m(self, datasource_name, data_connector_name, data_asset_name, batch_request, batch_data, data_connector_query, batch_identifiers, limit, index, custom_filter_function, sampling_method, sampling_kwargs, splitter_method, splitter_kwargs, runtime_parameters, query, path, batch_filter_parameters, batch_spec_passthrough, **kwargs)\u001b[0m\n\u001b[0;32m   1151\u001b[0m \u001b[38;5;129m@usage_statistics_enabled_method\u001b[39m(\n\u001b[0;32m   1152\u001b[0m     event_name\u001b[38;5;241m=\u001b[39mUsageStatsEvents\u001b[38;5;241m.\u001b[39mDATA_CONTEXT_GET_BATCH_LIST\u001b[38;5;241m.\u001b[39mvalue,\n\u001b[0;32m   1153\u001b[0m     args_payload_fn\u001b[38;5;241m=\u001b[39mget_batch_list_usage_statistics,\n\u001b[1;32m   (...)\u001b[0m\n\u001b[0;32m   1176\u001b[0m     \u001b[38;5;241m*\u001b[39m\u001b[38;5;241m*\u001b[39mkwargs,\n\u001b[0;32m   1177\u001b[0m ) \u001b[38;5;241m-\u001b[39m\u001b[38;5;241m>\u001b[39m List[Batch]:\n\u001b[0;32m   1178\u001b[0m     \u001b[38;5;124;03m\"\"\"Get the list of zero or more batches, based on a variety of flexible input types.\u001b[39;00m\n\u001b[0;32m   1179\u001b[0m \u001b[38;5;124;03m    This method applies only to the new (V3) Datasource schema.\u001b[39;00m\n\u001b[0;32m   1180\u001b[0m \n\u001b[1;32m   (...)\u001b[0m\n\u001b[0;32m   1218\u001b[0m \u001b[38;5;124;03m    This method attempts to return any number of batches, including an empty list.\u001b[39;00m\n\u001b[0;32m   1219\u001b[0m \u001b[38;5;124;03m    \"\"\"\u001b[39;00m\n\u001b[1;32m-> 1220\u001b[0m     \u001b[38;5;28;01mreturn\u001b[39;00m \u001b[38;5;28;43msuper\u001b[39;49m\u001b[43m(\u001b[49m\u001b[43m)\u001b[49m\u001b[38;5;241;43m.\u001b[39;49m\u001b[43mget_batch_list\u001b[49m\u001b[43m(\u001b[49m\n\u001b[0;32m   1221\u001b[0m \u001b[43m        \u001b[49m\u001b[43mdatasource_name\u001b[49m\u001b[38;5;241;43m=\u001b[39;49m\u001b[43mdatasource_name\u001b[49m\u001b[43m,\u001b[49m\n\u001b[0;32m   1222\u001b[0m \u001b[43m        \u001b[49m\u001b[43mdata_connector_name\u001b[49m\u001b[38;5;241;43m=\u001b[39;49m\u001b[43mdata_connector_name\u001b[49m\u001b[43m,\u001b[49m\n\u001b[0;32m   1223\u001b[0m \u001b[43m        \u001b[49m\u001b[43mdata_asset_name\u001b[49m\u001b[38;5;241;43m=\u001b[39;49m\u001b[43mdata_asset_name\u001b[49m\u001b[43m,\u001b[49m\n\u001b[0;32m   1224\u001b[0m \u001b[43m        \u001b[49m\u001b[43mbatch_request\u001b[49m\u001b[38;5;241;43m=\u001b[39;49m\u001b[43mbatch_request\u001b[49m\u001b[43m,\u001b[49m\n\u001b[0;32m   1225\u001b[0m \u001b[43m        \u001b[49m\u001b[43mbatch_data\u001b[49m\u001b[38;5;241;43m=\u001b[39;49m\u001b[43mbatch_data\u001b[49m\u001b[43m,\u001b[49m\n\u001b[0;32m   1226\u001b[0m \u001b[43m        \u001b[49m\u001b[43mdata_connector_query\u001b[49m\u001b[38;5;241;43m=\u001b[39;49m\u001b[43mdata_connector_query\u001b[49m\u001b[43m,\u001b[49m\n\u001b[0;32m   1227\u001b[0m \u001b[43m        \u001b[49m\u001b[43mbatch_identifiers\u001b[49m\u001b[38;5;241;43m=\u001b[39;49m\u001b[43mbatch_identifiers\u001b[49m\u001b[43m,\u001b[49m\n\u001b[0;32m   1228\u001b[0m \u001b[43m        \u001b[49m\u001b[43mlimit\u001b[49m\u001b[38;5;241;43m=\u001b[39;49m\u001b[43mlimit\u001b[49m\u001b[43m,\u001b[49m\n\u001b[0;32m   1229\u001b[0m \u001b[43m        \u001b[49m\u001b[43mindex\u001b[49m\u001b[38;5;241;43m=\u001b[39;49m\u001b[43mindex\u001b[49m\u001b[43m,\u001b[49m\n\u001b[0;32m   1230\u001b[0m \u001b[43m        \u001b[49m\u001b[43mcustom_filter_function\u001b[49m\u001b[38;5;241;43m=\u001b[39;49m\u001b[43mcustom_filter_function\u001b[49m\u001b[43m,\u001b[49m\n\u001b[0;32m   1231\u001b[0m \u001b[43m        \u001b[49m\u001b[43msampling_method\u001b[49m\u001b[38;5;241;43m=\u001b[39;49m\u001b[43msampling_method\u001b[49m\u001b[43m,\u001b[49m\n\u001b[0;32m   1232\u001b[0m \u001b[43m        \u001b[49m\u001b[43msampling_kwargs\u001b[49m\u001b[38;5;241;43m=\u001b[39;49m\u001b[43msampling_kwargs\u001b[49m\u001b[43m,\u001b[49m\n\u001b[0;32m   1233\u001b[0m \u001b[43m        \u001b[49m\u001b[43msplitter_method\u001b[49m\u001b[38;5;241;43m=\u001b[39;49m\u001b[43msplitter_method\u001b[49m\u001b[43m,\u001b[49m\n\u001b[0;32m   1234\u001b[0m \u001b[43m        \u001b[49m\u001b[43msplitter_kwargs\u001b[49m\u001b[38;5;241;43m=\u001b[39;49m\u001b[43msplitter_kwargs\u001b[49m\u001b[43m,\u001b[49m\n\u001b[0;32m   1235\u001b[0m \u001b[43m        \u001b[49m\u001b[43mruntime_parameters\u001b[49m\u001b[38;5;241;43m=\u001b[39;49m\u001b[43mruntime_parameters\u001b[49m\u001b[43m,\u001b[49m\n\u001b[0;32m   1236\u001b[0m \u001b[43m        \u001b[49m\u001b[43mquery\u001b[49m\u001b[38;5;241;43m=\u001b[39;49m\u001b[43mquery\u001b[49m\u001b[43m,\u001b[49m\n\u001b[0;32m   1237\u001b[0m \u001b[43m        \u001b[49m\u001b[43mpath\u001b[49m\u001b[38;5;241;43m=\u001b[39;49m\u001b[43mpath\u001b[49m\u001b[43m,\u001b[49m\n\u001b[0;32m   1238\u001b[0m \u001b[43m        \u001b[49m\u001b[43mbatch_filter_parameters\u001b[49m\u001b[38;5;241;43m=\u001b[39;49m\u001b[43mbatch_filter_parameters\u001b[49m\u001b[43m,\u001b[49m\n\u001b[0;32m   1239\u001b[0m \u001b[43m        \u001b[49m\u001b[43mbatch_spec_passthrough\u001b[49m\u001b[38;5;241;43m=\u001b[39;49m\u001b[43mbatch_spec_passthrough\u001b[49m\u001b[43m,\u001b[49m\n\u001b[0;32m   1240\u001b[0m \u001b[43m        \u001b[49m\u001b[38;5;241;43m*\u001b[39;49m\u001b[38;5;241;43m*\u001b[39;49m\u001b[43mkwargs\u001b[49m\u001b[43m,\u001b[49m\n\u001b[0;32m   1241\u001b[0m \u001b[43m    \u001b[49m\u001b[43m)\u001b[49m\n",
      "File \u001b[1;32mc:\\appl\\projects\\equinor\\data-quality-playground\\.venv\\lib\\site-packages\\great_expectations\\data_context\\data_context\\abstract_data_context.py:1057\u001b[0m, in \u001b[0;36mAbstractDataContext.get_batch_list\u001b[1;34m(self, datasource_name, data_connector_name, data_asset_name, batch_request, batch_data, data_connector_query, batch_identifiers, limit, index, custom_filter_function, sampling_method, sampling_kwargs, splitter_method, splitter_kwargs, runtime_parameters, query, path, batch_filter_parameters, batch_spec_passthrough, **kwargs)\u001b[0m\n\u001b[0;32m   1055\u001b[0m     datasource: Datasource \u001b[38;5;241m=\u001b[39m cast(Datasource, \u001b[38;5;28mself\u001b[39m\u001b[38;5;241m.\u001b[39mdatasources[datasource_name])\n\u001b[0;32m   1056\u001b[0m \u001b[38;5;28;01melse\u001b[39;00m:\n\u001b[1;32m-> 1057\u001b[0m     \u001b[38;5;28;01mraise\u001b[39;00m ge_exceptions\u001b[38;5;241m.\u001b[39mDatasourceError(\n\u001b[0;32m   1058\u001b[0m         datasource_name,\n\u001b[0;32m   1059\u001b[0m         \u001b[38;5;124m\"\u001b[39m\u001b[38;5;124mThe given datasource could not be retrieved from the DataContext; \u001b[39m\u001b[38;5;124m\"\u001b[39m\n\u001b[0;32m   1060\u001b[0m         \u001b[38;5;124m\"\u001b[39m\u001b[38;5;124mplease confirm that your configuration is accurate.\u001b[39m\u001b[38;5;124m\"\u001b[39m,\n\u001b[0;32m   1061\u001b[0m     )\n\u001b[0;32m   1062\u001b[0m \u001b[38;5;28;01mreturn\u001b[39;00m datasource\u001b[38;5;241m.\u001b[39mget_batch_list_from_batch_request(batch_request\u001b[38;5;241m=\u001b[39mbatch_request)\n",
      "\u001b[1;31mDatasourceError\u001b[0m: Cannot initialize datasource iris, error: The given datasource could not be retrieved from the DataContext; please confirm that your configuration is accurate."
     ]
    }
   ],
   "source": [
    "# https://docs.greatexpectations.io/docs/guides/validation/advanced/how_to_validate_data_with_an_in_memory_checkpoint\n",
    "\n",
    "import great_expectations as ge\n",
    "from great_expectations.checkpoint import Checkpoint\n",
    "\n",
    "from ruamel import yaml\n",
    "yaml = yaml.YAML(typ=\"safe\")\n",
    "\n",
    "context = ge.get_context()\n",
    "\n",
    "my_checkpoint_name = \"in_memory_checkpoint\"\n",
    "python_config = {\n",
    "    \"name\": my_checkpoint_name,\n",
    "    \"config_version\": 1,\n",
    "    \"run_name_template\": \"%Y%m%d-%H%M%S-my-run-name-template\",\n",
    "    \"action_list\": [\n",
    "        {\n",
    "            \"name\": \"store_validation_result\",\n",
    "            \"action\": {\"class_name\": \"StoreValidationResultAction\"},\n",
    "        },\n",
    "        {\n",
    "            \"name\": \"store_evaluation_params\",\n",
    "            \"action\": {\"class_name\": \"StoreEvaluationParametersAction\"},\n",
    "        },\n",
    "        {\n",
    "            \"name\": \"update_data_docs\",\n",
    "            \"action\": {\"class_name\": \"UpdateDataDocsAction\", \"site_names\": []},\n",
    "        },\n",
    "    ],\n",
    "    \"validations\": [\n",
    "        {\n",
    "            \"batch_request\": {\n",
    "                \"datasource_name\": \"iris\",\n",
    "                \"data_connector_name\": \"default_inferred_data_connector_name\",\n",
    "                \"data_asset_name\": \"test.csv\",\n",
    "                \"data_connector_query\": {\"index\": -1},\n",
    "            },\n",
    "            \"expectation_suite_name\": \"iris3\",\n",
    "        }\n",
    "    ],\n",
    "}\n",
    "my_checkpoint = Checkpoint(data_context=context, **python_config)\n",
    "results = my_checkpoint.run()\n",
    "\n",
    "\n",
    "\n"
   ]
  },
  {
   "cell_type": "code",
   "execution_count": null,
   "id": "4c776ded",
   "metadata": {},
   "outputs": [],
   "source": []
  }
 ],
 "metadata": {
  "kernelspec": {
   "display_name": "data-quality-venv",
   "language": "python",
   "name": "data-quality-venv"
  },
  "language_info": {
   "codemirror_mode": {
    "name": "ipython",
    "version": 3
   },
   "file_extension": ".py",
   "mimetype": "text/x-python",
   "name": "python",
   "nbconvert_exporter": "python",
   "pygments_lexer": "ipython3",
   "version": "3.8.10"
  }
 },
 "nbformat": 4,
 "nbformat_minor": 5
}
