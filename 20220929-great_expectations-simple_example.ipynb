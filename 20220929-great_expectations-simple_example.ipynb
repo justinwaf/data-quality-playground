{
 "cells": [
  {
   "cell_type": "code",
   "execution_count": 1,
   "id": "d99153a3",
   "metadata": {},
   "outputs": [],
   "source": [
    "import great_expectations as ge\n"
   ]
  },
  {
   "cell_type": "markdown",
   "id": "2a373f09",
   "metadata": {},
   "source": [
    "# Get some reference data"
   ]
  },
  {
   "cell_type": "code",
   "execution_count": 2,
   "id": "530fe304",
   "metadata": {},
   "outputs": [],
   "source": [
    "df_ref = ge.read_csv(\"data/reference.csv\")\n",
    "df_new = ge.read_csv(\"data/test.csv\")\n"
   ]
  },
  {
   "cell_type": "code",
   "execution_count": 3,
   "id": "312835ba",
   "metadata": {},
   "outputs": [
    {
     "data": {
      "text/html": [
       "<div>\n",
       "<style scoped>\n",
       "    .dataframe tbody tr th:only-of-type {\n",
       "        vertical-align: middle;\n",
       "    }\n",
       "\n",
       "    .dataframe tbody tr th {\n",
       "        vertical-align: top;\n",
       "    }\n",
       "\n",
       "    .dataframe thead th {\n",
       "        text-align: right;\n",
       "    }\n",
       "</style>\n",
       "<table border=\"1\" class=\"dataframe\">\n",
       "  <thead>\n",
       "    <tr style=\"text-align: right;\">\n",
       "      <th></th>\n",
       "      <th>Unnamed: 0</th>\n",
       "      <th>sepal length (cm)</th>\n",
       "      <th>sepal width (cm)</th>\n",
       "      <th>petal length (cm)</th>\n",
       "      <th>petal width (cm)</th>\n",
       "      <th>target</th>\n",
       "    </tr>\n",
       "  </thead>\n",
       "  <tbody>\n",
       "    <tr>\n",
       "      <th>0</th>\n",
       "      <td>117</td>\n",
       "      <td>7.7</td>\n",
       "      <td>3.8</td>\n",
       "      <td>6.7</td>\n",
       "      <td>2.2</td>\n",
       "      <td>virginica</td>\n",
       "    </tr>\n",
       "    <tr>\n",
       "      <th>1</th>\n",
       "      <td>145</td>\n",
       "      <td>6.7</td>\n",
       "      <td>3.0</td>\n",
       "      <td>5.2</td>\n",
       "      <td>2.3</td>\n",
       "      <td>virginica</td>\n",
       "    </tr>\n",
       "    <tr>\n",
       "      <th>2</th>\n",
       "      <td>115</td>\n",
       "      <td>6.4</td>\n",
       "      <td>3.2</td>\n",
       "      <td>5.3</td>\n",
       "      <td>2.3</td>\n",
       "      <td>virginica</td>\n",
       "    </tr>\n",
       "    <tr>\n",
       "      <th>3</th>\n",
       "      <td>61</td>\n",
       "      <td>5.9</td>\n",
       "      <td>3.0</td>\n",
       "      <td>4.2</td>\n",
       "      <td>1.5</td>\n",
       "      <td>versicolor</td>\n",
       "    </tr>\n",
       "    <tr>\n",
       "      <th>4</th>\n",
       "      <td>100</td>\n",
       "      <td>6.3</td>\n",
       "      <td>3.3</td>\n",
       "      <td>6.0</td>\n",
       "      <td>2.5</td>\n",
       "      <td>virginica</td>\n",
       "    </tr>\n",
       "  </tbody>\n",
       "</table>\n",
       "</div>"
      ],
      "text/plain": [
       "   Unnamed: 0  sepal length (cm)  sepal width (cm)  petal length (cm)  \\\n",
       "0         117                7.7               3.8                6.7   \n",
       "1         145                6.7               3.0                5.2   \n",
       "2         115                6.4               3.2                5.3   \n",
       "3          61                5.9               3.0                4.2   \n",
       "4         100                6.3               3.3                6.0   \n",
       "\n",
       "   petal width (cm)      target  \n",
       "0               2.2   virginica  \n",
       "1               2.3   virginica  \n",
       "2               2.3   virginica  \n",
       "3               1.5  versicolor  \n",
       "4               2.5   virginica  "
      ]
     },
     "execution_count": 3,
     "metadata": {},
     "output_type": "execute_result"
    }
   ],
   "source": [
    "df_ref.head()"
   ]
  },
  {
   "cell_type": "code",
   "execution_count": 13,
   "id": "57820def",
   "metadata": {},
   "outputs": [
    {
     "data": {
      "text/plain": [
       "array(['virginica', 'versicolor', 'setosa'], dtype=object)"
      ]
     },
     "execution_count": 13,
     "metadata": {},
     "output_type": "execute_result"
    }
   ],
   "source": [
    "df_ref['target'].unique()"
   ]
  },
  {
   "cell_type": "code",
   "execution_count": 4,
   "id": "6c32d592",
   "metadata": {},
   "outputs": [
    {
     "data": {
      "text/html": [
       "<div>\n",
       "<style scoped>\n",
       "    .dataframe tbody tr th:only-of-type {\n",
       "        vertical-align: middle;\n",
       "    }\n",
       "\n",
       "    .dataframe tbody tr th {\n",
       "        vertical-align: top;\n",
       "    }\n",
       "\n",
       "    .dataframe thead th {\n",
       "        text-align: right;\n",
       "    }\n",
       "</style>\n",
       "<table border=\"1\" class=\"dataframe\">\n",
       "  <thead>\n",
       "    <tr style=\"text-align: right;\">\n",
       "      <th></th>\n",
       "      <th>Unnamed: 0</th>\n",
       "      <th>sepal length (cm)</th>\n",
       "      <th>sepal width (cm)</th>\n",
       "      <th>petal length (cm)</th>\n",
       "      <th>petal width (cm)</th>\n",
       "      <th>target</th>\n",
       "    </tr>\n",
       "  </thead>\n",
       "  <tbody>\n",
       "    <tr>\n",
       "      <th>45</th>\n",
       "      <td>92</td>\n",
       "      <td>5.8</td>\n",
       "      <td>2.6</td>\n",
       "      <td>4.0</td>\n",
       "      <td>1.200</td>\n",
       "      <td>versicolor</td>\n",
       "    </tr>\n",
       "    <tr>\n",
       "      <th>46</th>\n",
       "      <td>77</td>\n",
       "      <td>6.7</td>\n",
       "      <td>3.0</td>\n",
       "      <td>5.0</td>\n",
       "      <td>1.700</td>\n",
       "      <td>versicolor</td>\n",
       "    </tr>\n",
       "    <tr>\n",
       "      <th>47</th>\n",
       "      <td>106</td>\n",
       "      <td>4.9</td>\n",
       "      <td>2.5</td>\n",
       "      <td>4.5</td>\n",
       "      <td>1.700</td>\n",
       "      <td>virginica</td>\n",
       "    </tr>\n",
       "    <tr>\n",
       "      <th>48</th>\n",
       "      <td>53</td>\n",
       "      <td>5.5</td>\n",
       "      <td>2.3</td>\n",
       "      <td>4.0</td>\n",
       "      <td>1.300</td>\n",
       "      <td>versicolor</td>\n",
       "    </tr>\n",
       "    <tr>\n",
       "      <th>49</th>\n",
       "      <td>138</td>\n",
       "      <td>6.0</td>\n",
       "      <td>3.0</td>\n",
       "      <td>4.8</td>\n",
       "      <td>123.456</td>\n",
       "      <td>bob</td>\n",
       "    </tr>\n",
       "  </tbody>\n",
       "</table>\n",
       "</div>"
      ],
      "text/plain": [
       "    Unnamed: 0  sepal length (cm)  sepal width (cm)  petal length (cm)  \\\n",
       "45          92                5.8               2.6                4.0   \n",
       "46          77                6.7               3.0                5.0   \n",
       "47         106                4.9               2.5                4.5   \n",
       "48          53                5.5               2.3                4.0   \n",
       "49         138                6.0               3.0                4.8   \n",
       "\n",
       "    petal width (cm)      target  \n",
       "45             1.200  versicolor  \n",
       "46             1.700  versicolor  \n",
       "47             1.700   virginica  \n",
       "48             1.300  versicolor  \n",
       "49           123.456         bob  "
      ]
     },
     "execution_count": 4,
     "metadata": {},
     "output_type": "execute_result"
    }
   ],
   "source": [
    "# \"test.csv\" contains some data quality issues!\n",
    "\n",
    "df_new.tail()"
   ]
  },
  {
   "cell_type": "markdown",
   "id": "ed79e1ad",
   "metadata": {},
   "source": [
    "# Setup an expectation and apply it to the reference data\n",
    "\n",
    "Examples\n",
    "df_ref.expect_column_max_to_be_between(\"sepal length (cm)\", 1,5)\n",
    "df_ref.expect_column_max_to_be_between(\"sepal length (cm)\", 1,100)\n",
    "\n",
    "\n",
    "## Things to try\n",
    "\n",
    "sepal length (cm)\n",
    "petal width (cm)\n",
    "\n"
   ]
  },
  {
   "cell_type": "code",
   "execution_count": 5,
   "id": "83ad038c",
   "metadata": {},
   "outputs": [],
   "source": [
    "#df_ref.expect_column_max_to_be_between(COLNAME, FROM, TO)\n",
    "\n",
    "COLUMN_NAME = \"sepal length (cm)\""
   ]
  },
  {
   "cell_type": "code",
   "execution_count": 6,
   "id": "f089eeb0",
   "metadata": {},
   "outputs": [
    {
     "data": {
      "text/plain": [
       "4.3"
      ]
     },
     "execution_count": 6,
     "metadata": {},
     "output_type": "execute_result"
    }
   ],
   "source": [
    "df_ref[COLUMN_NAME].min()\n"
   ]
  },
  {
   "cell_type": "code",
   "execution_count": 7,
   "id": "961f8e28",
   "metadata": {},
   "outputs": [
    {
     "data": {
      "text/plain": [
       "7.7"
      ]
     },
     "execution_count": 7,
     "metadata": {},
     "output_type": "execute_result"
    }
   ],
   "source": [
    "df_ref[COLUMN_NAME].max()\n"
   ]
  },
  {
   "cell_type": "code",
   "execution_count": 10,
   "id": "43bf30bc",
   "metadata": {},
   "outputs": [
    {
     "data": {
      "text/plain": [
       "{\n",
       "  \"exception_info\": {\n",
       "    \"raised_exception\": false,\n",
       "    \"exception_traceback\": null,\n",
       "    \"exception_message\": null\n",
       "  },\n",
       "  \"success\": true,\n",
       "  \"result\": {\n",
       "    \"observed_value\": 7.7,\n",
       "    \"element_count\": 100,\n",
       "    \"missing_count\": null,\n",
       "    \"missing_percent\": null\n",
       "  },\n",
       "  \"meta\": {}\n",
       "}"
      ]
     },
     "execution_count": 10,
     "metadata": {},
     "output_type": "execute_result"
    }
   ],
   "source": [
    "#df_ref.expect_column_max_to_be_between(COLNAME, FROM, TO)\n",
    "df_ref.expect_column_max_to_be_between(COLUMN_NAME, 4.3, 7.7)"
   ]
  },
  {
   "cell_type": "code",
   "execution_count": null,
   "id": "a660435c",
   "metadata": {},
   "outputs": [],
   "source": [
    "# View expectations"
   ]
  },
  {
   "cell_type": "code",
   "execution_count": 11,
   "id": "5761f3de",
   "metadata": {},
   "outputs": [
    {
     "data": {
      "text/plain": [
       "{\n",
       "  \"expectation_suite_name\": \"default\",\n",
       "  \"ge_cloud_id\": null,\n",
       "  \"data_asset_type\": \"Dataset\",\n",
       "  \"expectations\": [\n",
       "    {\n",
       "      \"kwargs\": {\n",
       "        \"column\": \"sepal length (cm)\",\n",
       "        \"min_value\": 4.3,\n",
       "        \"max_value\": 7.7\n",
       "      },\n",
       "      \"expectation_type\": \"expect_column_max_to_be_between\",\n",
       "      \"meta\": {}\n",
       "    }\n",
       "  ],\n",
       "  \"meta\": {\n",
       "    \"great_expectations_version\": \"0.15.23\"\n",
       "  }\n",
       "}"
      ]
     },
     "execution_count": 11,
     "metadata": {},
     "output_type": "execute_result"
    }
   ],
   "source": [
    "expectations = df_ref.get_expectation_suite()\n",
    "expectations"
   ]
  },
  {
   "cell_type": "code",
   "execution_count": null,
   "id": "3f70cb41",
   "metadata": {},
   "outputs": [],
   "source": [
    "# Apply expectations"
   ]
  },
  {
   "cell_type": "code",
   "execution_count": 12,
   "id": "66cef865",
   "metadata": {},
   "outputs": [
    {
     "data": {
      "text/plain": [
       "{\n",
       "  \"statistics\": {\n",
       "    \"evaluated_expectations\": 1,\n",
       "    \"successful_expectations\": 0,\n",
       "    \"unsuccessful_expectations\": 1,\n",
       "    \"success_percent\": 0.0\n",
       "  },\n",
       "  \"evaluation_parameters\": {},\n",
       "  \"results\": [\n",
       "    {\n",
       "      \"expectation_config\": {\n",
       "        \"kwargs\": {\n",
       "          \"column\": \"sepal length (cm)\",\n",
       "          \"min_value\": 4.3,\n",
       "          \"max_value\": 7.7\n",
       "        },\n",
       "        \"expectation_type\": \"expect_column_max_to_be_between\",\n",
       "        \"meta\": {}\n",
       "      },\n",
       "      \"exception_info\": {\n",
       "        \"raised_exception\": false,\n",
       "        \"exception_message\": null,\n",
       "        \"exception_traceback\": null\n",
       "      },\n",
       "      \"success\": false,\n",
       "      \"result\": {\n",
       "        \"observed_value\": 7.9,\n",
       "        \"element_count\": 50,\n",
       "        \"missing_count\": null,\n",
       "        \"missing_percent\": null\n",
       "      },\n",
       "      \"meta\": {}\n",
       "    }\n",
       "  ],\n",
       "  \"success\": false,\n",
       "  \"meta\": {\n",
       "    \"great_expectations_version\": \"0.15.23\",\n",
       "    \"expectation_suite_name\": \"default\",\n",
       "    \"run_id\": {\n",
       "      \"run_name\": null,\n",
       "      \"run_time\": \"2022-09-29T13:29:34.279775+00:00\"\n",
       "    },\n",
       "    \"batch_kwargs\": {\n",
       "      \"ge_batch_id\": \"3dc6b2fc-3ffa-11ed-b86a-f43909e1b92f\"\n",
       "    },\n",
       "    \"batch_markers\": {},\n",
       "    \"batch_parameters\": {},\n",
       "    \"validation_time\": \"20220929T132934.279775Z\",\n",
       "    \"expectation_suite_meta\": {\n",
       "      \"great_expectations_version\": \"0.15.23\"\n",
       "    }\n",
       "  }\n",
       "}"
      ]
     },
     "execution_count": 12,
     "metadata": {},
     "output_type": "execute_result"
    }
   ],
   "source": [
    "# Apply the expectations to the new \"unseen\" dataset\n",
    "df_new.validate(expectations)\n",
    "\n"
   ]
  },
  {
   "cell_type": "code",
   "execution_count": 14,
   "id": "93459273",
   "metadata": {},
   "outputs": [
    {
     "data": {
      "text/plain": [
       "{\n",
       "  \"exception_info\": {\n",
       "    \"raised_exception\": false,\n",
       "    \"exception_traceback\": null,\n",
       "    \"exception_message\": null\n",
       "  },\n",
       "  \"success\": true,\n",
       "  \"result\": {\n",
       "    \"element_count\": 100,\n",
       "    \"missing_count\": 0,\n",
       "    \"missing_percent\": 0.0,\n",
       "    \"unexpected_count\": 0,\n",
       "    \"unexpected_percent\": 0.0,\n",
       "    \"unexpected_percent_total\": 0.0,\n",
       "    \"unexpected_percent_nonmissing\": 0.0,\n",
       "    \"partial_unexpected_list\": []\n",
       "  },\n",
       "  \"meta\": {}\n",
       "}"
      ]
     },
     "execution_count": 14,
     "metadata": {},
     "output_type": "execute_result"
    }
   ],
   "source": [
    "# Add some more expectations\n",
    "\n",
    "df_ref.expect_column_values_to_be_in_set(\"target\", ['virginica', 'versicolor', 'setosa'])\n"
   ]
  },
  {
   "cell_type": "code",
   "execution_count": 15,
   "id": "54e209b2",
   "metadata": {},
   "outputs": [
    {
     "data": {
      "text/plain": [
       "{\n",
       "  \"statistics\": {\n",
       "    \"evaluated_expectations\": 2,\n",
       "    \"successful_expectations\": 0,\n",
       "    \"unsuccessful_expectations\": 2,\n",
       "    \"success_percent\": 0.0\n",
       "  },\n",
       "  \"evaluation_parameters\": {},\n",
       "  \"results\": [\n",
       "    {\n",
       "      \"expectation_config\": {\n",
       "        \"kwargs\": {\n",
       "          \"column\": \"sepal length (cm)\",\n",
       "          \"min_value\": 4.3,\n",
       "          \"max_value\": 7.7\n",
       "        },\n",
       "        \"expectation_type\": \"expect_column_max_to_be_between\",\n",
       "        \"meta\": {}\n",
       "      },\n",
       "      \"exception_info\": {\n",
       "        \"raised_exception\": false,\n",
       "        \"exception_message\": null,\n",
       "        \"exception_traceback\": null\n",
       "      },\n",
       "      \"success\": false,\n",
       "      \"result\": {\n",
       "        \"observed_value\": 7.9,\n",
       "        \"element_count\": 50,\n",
       "        \"missing_count\": null,\n",
       "        \"missing_percent\": null\n",
       "      },\n",
       "      \"meta\": {}\n",
       "    },\n",
       "    {\n",
       "      \"expectation_config\": {\n",
       "        \"kwargs\": {\n",
       "          \"column\": \"target\",\n",
       "          \"value_set\": [\n",
       "            \"virginica\",\n",
       "            \"versicolor\",\n",
       "            \"setosa\"\n",
       "          ]\n",
       "        },\n",
       "        \"expectation_type\": \"expect_column_values_to_be_in_set\",\n",
       "        \"meta\": {}\n",
       "      },\n",
       "      \"exception_info\": {\n",
       "        \"raised_exception\": false,\n",
       "        \"exception_message\": null,\n",
       "        \"exception_traceback\": null\n",
       "      },\n",
       "      \"success\": false,\n",
       "      \"result\": {\n",
       "        \"element_count\": 50,\n",
       "        \"missing_count\": 0,\n",
       "        \"missing_percent\": 0.0,\n",
       "        \"unexpected_count\": 1,\n",
       "        \"unexpected_percent\": 2.0,\n",
       "        \"unexpected_percent_total\": 2.0,\n",
       "        \"unexpected_percent_nonmissing\": 2.0,\n",
       "        \"partial_unexpected_list\": [\n",
       "          \"bob\"\n",
       "        ]\n",
       "      },\n",
       "      \"meta\": {}\n",
       "    }\n",
       "  ],\n",
       "  \"success\": false,\n",
       "  \"meta\": {\n",
       "    \"great_expectations_version\": \"0.15.23\",\n",
       "    \"expectation_suite_name\": \"default\",\n",
       "    \"run_id\": {\n",
       "      \"run_name\": null,\n",
       "      \"run_time\": \"2022-09-29T13:31:34.324425+00:00\"\n",
       "    },\n",
       "    \"batch_kwargs\": {\n",
       "      \"ge_batch_id\": \"3dc6b2fc-3ffa-11ed-b86a-f43909e1b92f\"\n",
       "    },\n",
       "    \"batch_markers\": {},\n",
       "    \"batch_parameters\": {},\n",
       "    \"validation_time\": \"20220929T133134.324425Z\",\n",
       "    \"expectation_suite_meta\": {\n",
       "      \"great_expectations_version\": \"0.15.23\"\n",
       "    }\n",
       "  }\n",
       "}"
      ]
     },
     "execution_count": 15,
     "metadata": {},
     "output_type": "execute_result"
    }
   ],
   "source": [
    "expectations = df_ref.get_expectation_suite()\n",
    "df_new.validate(expectations)"
   ]
  },
  {
   "cell_type": "markdown",
   "id": "9d103eb0",
   "metadata": {},
   "source": [
    "# Interactive sessions\n",
    "\n",
    "Run this from command line\n",
    "1. make expectations\n",
    "   1. command line: great_expectations suite new\n",
    "   1. answer some prompts, launches jupyter notebook\n",
    "   1. fill out jupyter notebook, writes yaml file and launches html docs\n",
    "1. apply expectations\n",
    "   1. command line:  great_expectations checkpoint new\n"
   ]
  },
  {
   "cell_type": "code",
   "execution_count": null,
   "id": "1d31ed71",
   "metadata": {},
   "outputs": [],
   "source": []
  }
 ],
 "metadata": {
  "kernelspec": {
   "display_name": "dq",
   "language": "python",
   "name": "dq"
  },
  "language_info": {
   "codemirror_mode": {
    "name": "ipython",
    "version": 3
   },
   "file_extension": ".py",
   "mimetype": "text/x-python",
   "name": "python",
   "nbconvert_exporter": "python",
   "pygments_lexer": "ipython3",
   "version": "3.8.10"
  }
 },
 "nbformat": 4,
 "nbformat_minor": 5
}
