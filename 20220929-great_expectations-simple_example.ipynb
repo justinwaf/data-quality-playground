{
 "cells": [
  {
   "cell_type": "code",
   "execution_count": null,
   "id": "d99153a3",
   "metadata": {},
   "outputs": [],
   "source": [
    "import great_expectations as ge\n"
   ]
  },
  {
   "cell_type": "markdown",
   "id": "2a373f09",
   "metadata": {},
   "source": [
    "# Get some reference data"
   ]
  },
  {
   "cell_type": "code",
   "execution_count": null,
   "id": "530fe304",
   "metadata": {},
   "outputs": [],
   "source": [
    "df_ref = ge.read_csv(\"data/reference.csv\")\n",
    "df_new = ge.read_csv(\"data/test.csv\")\n"
   ]
  },
  {
   "cell_type": "code",
   "execution_count": null,
   "id": "312835ba",
   "metadata": {},
   "outputs": [],
   "source": [
    "df_ref.head()"
   ]
  },
  {
   "cell_type": "code",
   "execution_count": null,
   "id": "6c32d592",
   "metadata": {},
   "outputs": [],
   "source": [
    "# \"test.csv\" contains some data quality issues!\n",
    "\n",
    "df_new.tail()"
   ]
  },
  {
   "cell_type": "markdown",
   "id": "ed79e1ad",
   "metadata": {},
   "source": [
    "# Setup an expectation and apply it to the reference data\n",
    "\n",
    "Examples\n",
    "df_ref.expect_column_max_to_be_between(\"sepal length (cm)\", 1,5)\n",
    "df_ref.expect_column_max_to_be_between(\"sepal length (cm)\", 1,100)"
   ]
  },
  {
   "cell_type": "code",
   "execution_count": null,
   "id": "83ad038c",
   "metadata": {},
   "outputs": [],
   "source": [
    "#df_ref.expect_column_max_to_be_between(COLNAME, FROM, TO)"
   ]
  },
  {
   "cell_type": "code",
   "execution_count": null,
   "id": "5761f3de",
   "metadata": {},
   "outputs": [],
   "source": [
    "expectations = df_ref.get_expectation_suite()\n",
    "#expectations"
   ]
  },
  {
   "cell_type": "code",
   "execution_count": null,
   "id": "66cef865",
   "metadata": {},
   "outputs": [],
   "source": [
    "# Apply the expectations to the new \"unseen\" dataset\n",
    "# df_new.validate(expectations)\n",
    "\n"
   ]
  },
  {
   "cell_type": "code",
   "execution_count": null,
   "id": "93459273",
   "metadata": {},
   "outputs": [],
   "source": [
    "# Add some more expectations\n",
    "\n",
    "df_ref.expect_column_values_to_be_in_set(\"target\", [...\n"
   ]
  },
  {
   "cell_type": "code",
   "execution_count": null,
   "id": "54e209b2",
   "metadata": {},
   "outputs": [],
   "source": [
    "expectations = df_ref.get_expectation_suite()\n",
    "df_new.validate(expectations)"
   ]
  },
  {
   "cell_type": "code",
   "execution_count": null,
   "id": "0b0a9613",
   "metadata": {},
   "outputs": [],
   "source": []
  }
 ],
 "metadata": {
  "kernelspec": {
   "display_name": "data-quality-venv",
   "language": "python",
   "name": "data-quality-venv"
  },
  "language_info": {
   "codemirror_mode": {
    "name": "ipython",
    "version": 3
   },
   "file_extension": ".py",
   "mimetype": "text/x-python",
   "name": "python",
   "nbconvert_exporter": "python",
   "pygments_lexer": "ipython3",
   "version": "3.8.10"
  }
 },
 "nbformat": 4,
 "nbformat_minor": 5
}
